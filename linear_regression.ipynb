{
 "cells": [
  {
   "cell_type": "code",
   "execution_count": 1,
   "metadata": {
    "collapsed": true
   },
   "outputs": [],
   "source": [
    "# import dependencies\n",
    "import pandas as pd\n",
    "import datetime as dt\n",
    "import matplotlib.pyplot as plt\n",
    "import numpy as np\n",
    "\n",
    "%matplotlib inline"
   ]
  },
  {
   "cell_type": "code",
   "execution_count": 2,
   "metadata": {},
   "outputs": [
    {
     "data": {
      "text/html": [
       "<div>\n",
       "<style scoped>\n",
       "    .dataframe tbody tr th:only-of-type {\n",
       "        vertical-align: middle;\n",
       "    }\n",
       "\n",
       "    .dataframe tbody tr th {\n",
       "        vertical-align: top;\n",
       "    }\n",
       "\n",
       "    .dataframe thead th {\n",
       "        text-align: right;\n",
       "    }\n",
       "</style>\n",
       "<table border=\"1\" class=\"dataframe\">\n",
       "  <thead>\n",
       "    <tr style=\"text-align: right;\">\n",
       "      <th></th>\n",
       "      <th>date</th>\n",
       "      <th>AverageTemperatureF</th>\n",
       "      <th>AverageTemperature</th>\n",
       "      <th>AverageTemperatureUncertainty</th>\n",
       "      <th>City</th>\n",
       "      <th>Country</th>\n",
       "      <th>Latitude</th>\n",
       "      <th>Longitude</th>\n",
       "      <th>year</th>\n",
       "    </tr>\n",
       "  </thead>\n",
       "  <tbody>\n",
       "    <tr>\n",
       "      <th>0</th>\n",
       "      <td>1743-11-01</td>\n",
       "      <td>42.9224</td>\n",
       "      <td>6.068</td>\n",
       "      <td>1.737</td>\n",
       "      <td>ÃÃÃÃ¤rhus</td>\n",
       "      <td>Denmark</td>\n",
       "      <td>0.80N</td>\n",
       "      <td>124.55E</td>\n",
       "      <td>1869</td>\n",
       "    </tr>\n",
       "    <tr>\n",
       "      <th>1</th>\n",
       "      <td>1744-04-01</td>\n",
       "      <td>42.4184</td>\n",
       "      <td>5.788</td>\n",
       "      <td>3.624</td>\n",
       "      <td>ÃÃÃÃ¤rhus</td>\n",
       "      <td>Denmark</td>\n",
       "      <td>0.80N</td>\n",
       "      <td>124.55E</td>\n",
       "      <td>1878</td>\n",
       "    </tr>\n",
       "    <tr>\n",
       "      <th>2</th>\n",
       "      <td>1744-05-01</td>\n",
       "      <td>51.1592</td>\n",
       "      <td>10.644</td>\n",
       "      <td>1.283</td>\n",
       "      <td>ÃÃÃÃ¤rhus</td>\n",
       "      <td>Denmark</td>\n",
       "      <td>0.80N</td>\n",
       "      <td>124.55E</td>\n",
       "      <td>1878</td>\n",
       "    </tr>\n",
       "    <tr>\n",
       "      <th>3</th>\n",
       "      <td>1744-06-01</td>\n",
       "      <td>57.2918</td>\n",
       "      <td>14.051</td>\n",
       "      <td>1.347</td>\n",
       "      <td>ÃÃÃÃ¤rhus</td>\n",
       "      <td>Denmark</td>\n",
       "      <td>0.80N</td>\n",
       "      <td>124.55E</td>\n",
       "      <td>1878</td>\n",
       "    </tr>\n",
       "    <tr>\n",
       "      <th>4</th>\n",
       "      <td>1744-07-01</td>\n",
       "      <td>60.9476</td>\n",
       "      <td>16.082</td>\n",
       "      <td>1.396</td>\n",
       "      <td>ÃÃÃÃ¤rhus</td>\n",
       "      <td>Denmark</td>\n",
       "      <td>0.80N</td>\n",
       "      <td>124.55E</td>\n",
       "      <td>1878</td>\n",
       "    </tr>\n",
       "  </tbody>\n",
       "</table>\n",
       "</div>"
      ],
      "text/plain": [
       "         date  AverageTemperatureF  AverageTemperature  \\\n",
       "0  1743-11-01              42.9224               6.068   \n",
       "1  1744-04-01              42.4184               5.788   \n",
       "2  1744-05-01              51.1592              10.644   \n",
       "3  1744-06-01              57.2918              14.051   \n",
       "4  1744-07-01              60.9476              16.082   \n",
       "\n",
       "   AverageTemperatureUncertainty          City  Country Latitude Longitude  \\\n",
       "0                          1.737  ÃÃÃÃ¤rhus  Denmark    0.80N   124.55E   \n",
       "1                          3.624  ÃÃÃÃ¤rhus  Denmark    0.80N   124.55E   \n",
       "2                          1.283  ÃÃÃÃ¤rhus  Denmark    0.80N   124.55E   \n",
       "3                          1.347  ÃÃÃÃ¤rhus  Denmark    0.80N   124.55E   \n",
       "4                          1.396  ÃÃÃÃ¤rhus  Denmark    0.80N   124.55E   \n",
       "\n",
       "   year  \n",
       "0  1869  \n",
       "1  1878  \n",
       "2  1878  \n",
       "3  1878  \n",
       "4  1878  "
      ]
     },
     "execution_count": 2,
     "metadata": {},
     "output_type": "execute_result"
    }
   ],
   "source": [
    "# read in csv and create dataframe\n",
    "csv = pd.read_csv('updated2.csv', encoding='latin-1')\n",
    "csv.head()"
   ]
  },
  {
   "cell_type": "code",
   "execution_count": 3,
   "metadata": {},
   "outputs": [
    {
     "data": {
      "text/plain": [
       "date                              object\n",
       "AverageTemperatureF              float64\n",
       "AverageTemperature               float64\n",
       "AverageTemperatureUncertainty    float64\n",
       "City                              object\n",
       "Country                           object\n",
       "Latitude                          object\n",
       "Longitude                         object\n",
       "year                               int64\n",
       "dtype: object"
      ]
     },
     "execution_count": 3,
     "metadata": {},
     "output_type": "execute_result"
    }
   ],
   "source": [
    "# check dataframe datatypes\n",
    "csv.dtypes"
   ]
  },
  {
   "cell_type": "code",
   "execution_count": 4,
   "metadata": {
    "collapsed": true
   },
   "outputs": [],
   "source": [
    "# dropping null values\n",
    "csv = csv.dropna()"
   ]
  },
  {
   "cell_type": "code",
   "execution_count": 5,
   "metadata": {
    "scrolled": true
   },
   "outputs": [
    {
     "data": {
      "text/plain": [
       "(1048575, 9)"
      ]
     },
     "execution_count": 5,
     "metadata": {},
     "output_type": "execute_result"
    }
   ],
   "source": [
    "csv.shape"
   ]
  },
  {
   "cell_type": "code",
   "execution_count": 6,
   "metadata": {
    "collapsed": true
   },
   "outputs": [],
   "source": [
    "# renaming dataframe\n",
    "df = pd.DataFrame(csv)"
   ]
  },
  {
   "cell_type": "code",
   "execution_count": 7,
   "metadata": {},
   "outputs": [
    {
     "name": "stdout",
     "output_type": "stream",
     "text": [
      "435\n",
      "88\n",
      "3002\n"
     ]
    }
   ],
   "source": [
    "# finding unique cities, countries, and dates within the dataset\n",
    "cities = df['City'].nunique()\n",
    "countries = df['Country'].nunique()\n",
    "dates = df['date'].nunique()\n",
    "\n",
    "print(cities)\n",
    "print(countries)\n",
    "print(dates)"
   ]
  },
  {
   "cell_type": "code",
   "execution_count": 8,
   "metadata": {
    "collapsed": true
   },
   "outputs": [],
   "source": [
    "# cleaning data by dropping \"E\", \"W\", \"N\" in Longitude and Latitude values\n",
    "df['Longitude'] = df['Longitude'].str.replace('E', '')\n",
    "df['Longitude'] = df['Longitude'].str.replace('W', '')\n",
    "df['Latitude'] = df['Latitude'].str.replace('N', '')\n",
    "df.to_csv('final.csv')"
   ]
  },
  {
   "cell_type": "code",
   "execution_count": 9,
   "metadata": {
    "collapsed": true
   },
   "outputs": [],
   "source": [
    "# changing date values to timestamps\n",
    "df['date'] = pd.to_datetime(df['date'], infer_datetime_format=True)"
   ]
  },
  {
   "cell_type": "code",
   "execution_count": 10,
   "metadata": {},
   "outputs": [
    {
     "data": {
      "text/html": [
       "<div>\n",
       "<style scoped>\n",
       "    .dataframe tbody tr th:only-of-type {\n",
       "        vertical-align: middle;\n",
       "    }\n",
       "\n",
       "    .dataframe tbody tr th {\n",
       "        vertical-align: top;\n",
       "    }\n",
       "\n",
       "    .dataframe thead th {\n",
       "        text-align: right;\n",
       "    }\n",
       "</style>\n",
       "<table border=\"1\" class=\"dataframe\">\n",
       "  <thead>\n",
       "    <tr style=\"text-align: right;\">\n",
       "      <th></th>\n",
       "      <th>date</th>\n",
       "      <th>AverageTemperatureF</th>\n",
       "      <th>AverageTemperature</th>\n",
       "      <th>AverageTemperatureUncertainty</th>\n",
       "      <th>City</th>\n",
       "      <th>Country</th>\n",
       "      <th>Latitude</th>\n",
       "      <th>Longitude</th>\n",
       "      <th>year</th>\n",
       "    </tr>\n",
       "  </thead>\n",
       "  <tbody>\n",
       "    <tr>\n",
       "      <th>0</th>\n",
       "      <td>1743-11-01</td>\n",
       "      <td>42.9224</td>\n",
       "      <td>6.068</td>\n",
       "      <td>1.737</td>\n",
       "      <td>ÃÃÃÃ¤rhus</td>\n",
       "      <td>Denmark</td>\n",
       "      <td>0.80</td>\n",
       "      <td>124.55</td>\n",
       "      <td>1743</td>\n",
       "    </tr>\n",
       "    <tr>\n",
       "      <th>1</th>\n",
       "      <td>1744-04-01</td>\n",
       "      <td>42.4184</td>\n",
       "      <td>5.788</td>\n",
       "      <td>3.624</td>\n",
       "      <td>ÃÃÃÃ¤rhus</td>\n",
       "      <td>Denmark</td>\n",
       "      <td>0.80</td>\n",
       "      <td>124.55</td>\n",
       "      <td>1744</td>\n",
       "    </tr>\n",
       "    <tr>\n",
       "      <th>2</th>\n",
       "      <td>1744-05-01</td>\n",
       "      <td>51.1592</td>\n",
       "      <td>10.644</td>\n",
       "      <td>1.283</td>\n",
       "      <td>ÃÃÃÃ¤rhus</td>\n",
       "      <td>Denmark</td>\n",
       "      <td>0.80</td>\n",
       "      <td>124.55</td>\n",
       "      <td>1744</td>\n",
       "    </tr>\n",
       "    <tr>\n",
       "      <th>3</th>\n",
       "      <td>1744-06-01</td>\n",
       "      <td>57.2918</td>\n",
       "      <td>14.051</td>\n",
       "      <td>1.347</td>\n",
       "      <td>ÃÃÃÃ¤rhus</td>\n",
       "      <td>Denmark</td>\n",
       "      <td>0.80</td>\n",
       "      <td>124.55</td>\n",
       "      <td>1744</td>\n",
       "    </tr>\n",
       "    <tr>\n",
       "      <th>4</th>\n",
       "      <td>1744-07-01</td>\n",
       "      <td>60.9476</td>\n",
       "      <td>16.082</td>\n",
       "      <td>1.396</td>\n",
       "      <td>ÃÃÃÃ¤rhus</td>\n",
       "      <td>Denmark</td>\n",
       "      <td>0.80</td>\n",
       "      <td>124.55</td>\n",
       "      <td>1744</td>\n",
       "    </tr>\n",
       "  </tbody>\n",
       "</table>\n",
       "</div>"
      ],
      "text/plain": [
       "        date  AverageTemperatureF  AverageTemperature  \\\n",
       "0 1743-11-01              42.9224               6.068   \n",
       "1 1744-04-01              42.4184               5.788   \n",
       "2 1744-05-01              51.1592              10.644   \n",
       "3 1744-06-01              57.2918              14.051   \n",
       "4 1744-07-01              60.9476              16.082   \n",
       "\n",
       "   AverageTemperatureUncertainty          City  Country Latitude Longitude  \\\n",
       "0                          1.737  ÃÃÃÃ¤rhus  Denmark     0.80    124.55   \n",
       "1                          3.624  ÃÃÃÃ¤rhus  Denmark     0.80    124.55   \n",
       "2                          1.283  ÃÃÃÃ¤rhus  Denmark     0.80    124.55   \n",
       "3                          1.347  ÃÃÃÃ¤rhus  Denmark     0.80    124.55   \n",
       "4                          1.396  ÃÃÃÃ¤rhus  Denmark     0.80    124.55   \n",
       "\n",
       "   year  \n",
       "0  1743  \n",
       "1  1744  \n",
       "2  1744  \n",
       "3  1744  \n",
       "4  1744  "
      ]
     },
     "execution_count": 10,
     "metadata": {},
     "output_type": "execute_result"
    }
   ],
   "source": [
    "# extracting year from dates and creating new column\n",
    "df['year'] = df['date'].map(lambda x: 1*x.year)\n",
    "df.head()"
   ]
  },
  {
   "cell_type": "code",
   "execution_count": 157,
   "metadata": {},
   "outputs": [
    {
     "data": {
      "image/png": "[encoded data removed]",
      "text/plain": [
       "<matplotlib.figure.Figure at 0x1a36c3f320>"
      ]
     },
     "metadata": {},
     "output_type": "display_data"
    }
   ],
   "source": [
    "# plotting year vs average temperature\n",
    "x = df['year']\n",
    "y = df['AverageTemperatureF']\n",
    "\n",
    "plt.scatter(x, y, alpha=0.5)\n",
    "plt.xlabel(\"Year\")\n",
    "plt.ylabel(\"Average Temperature\")\n",
    "plt.legend()\n",
    "plt.savefig(\"year_temp.jpg\")\n",
    "plt.show()"
   ]
  },
  {
   "cell_type": "code",
   "execution_count": 115,
   "metadata": {
    "scrolled": true
   },
   "outputs": [
    {
     "data": {
      "text/html": [
       "<div>\n",
       "<style scoped>\n",
       "    .dataframe tbody tr th:only-of-type {\n",
       "        vertical-align: middle;\n",
       "    }\n",
       "\n",
       "    .dataframe tbody tr th {\n",
       "        vertical-align: top;\n",
       "    }\n",
       "\n",
       "    .dataframe thead th {\n",
       "        text-align: right;\n",
       "    }\n",
       "</style>\n",
       "<table border=\"1\" class=\"dataframe\">\n",
       "  <thead>\n",
       "    <tr style=\"text-align: right;\">\n",
       "      <th></th>\n",
       "      <th>year</th>\n",
       "      <th>Latitude</th>\n",
       "      <th>Longitude</th>\n",
       "      <th>AverageTemperatureF</th>\n",
       "      <th>AverageTemperature</th>\n",
       "      <th>AverageTemperatureUncertainty</th>\n",
       "    </tr>\n",
       "  </thead>\n",
       "  <tbody>\n",
       "    <tr>\n",
       "      <th>0</th>\n",
       "      <td>1743</td>\n",
       "      <td>-16.87</td>\n",
       "      <td>72.00</td>\n",
       "      <td>45.4604</td>\n",
       "      <td>7.478</td>\n",
       "      <td>1.866</td>\n",
       "    </tr>\n",
       "    <tr>\n",
       "      <th>1</th>\n",
       "      <td>1743</td>\n",
       "      <td>-20.09</td>\n",
       "      <td>44.36</td>\n",
       "      <td>43.9736</td>\n",
       "      <td>6.652</td>\n",
       "      <td>2.015</td>\n",
       "    </tr>\n",
       "    <tr>\n",
       "      <th>2</th>\n",
       "      <td>1743</td>\n",
       "      <td>-20.09</td>\n",
       "      <td>47.77</td>\n",
       "      <td>43.9736</td>\n",
       "      <td>6.652</td>\n",
       "      <td>2.015</td>\n",
       "    </tr>\n",
       "    <tr>\n",
       "      <th>3</th>\n",
       "      <td>1743</td>\n",
       "      <td>-21.7</td>\n",
       "      <td>51.06</td>\n",
       "      <td>21.9992</td>\n",
       "      <td>-5.556</td>\n",
       "      <td>2.627</td>\n",
       "    </tr>\n",
       "    <tr>\n",
       "      <th>4</th>\n",
       "      <td>1743</td>\n",
       "      <td>-23.31</td>\n",
       "      <td>42.82</td>\n",
       "      <td>46.4774</td>\n",
       "      <td>8.043</td>\n",
       "      <td>1.841</td>\n",
       "    </tr>\n",
       "  </tbody>\n",
       "</table>\n",
       "</div>"
      ],
      "text/plain": [
       "   year Latitude Longitude  AverageTemperatureF  AverageTemperature  \\\n",
       "0  1743   -16.87     72.00              45.4604               7.478   \n",
       "1  1743   -20.09     44.36              43.9736               6.652   \n",
       "2  1743   -20.09     47.77              43.9736               6.652   \n",
       "3  1743    -21.7     51.06              21.9992              -5.556   \n",
       "4  1743   -23.31     42.82              46.4774               8.043   \n",
       "\n",
       "   AverageTemperatureUncertainty  \n",
       "0                          1.866  \n",
       "1                          2.015  \n",
       "2                          2.015  \n",
       "3                          2.627  \n",
       "4                          1.841  "
      ]
     },
     "execution_count": 115,
     "metadata": {},
     "output_type": "execute_result"
    }
   ],
   "source": [
    "# getting average temperature by year for each lat&lon coordinate\n",
    "df_avg = df.groupby(['year', 'Latitude', 'Longitude'], as_index=False).mean()\n",
    "df_avg.head()"
   ]
  },
  {
   "cell_type": "code",
   "execution_count": 116,
   "metadata": {},
   "outputs": [
    {
     "name": "stdout",
     "output_type": "stream",
     "text": [
      "(59315, 3) (59315, 1)\n"
     ]
    }
   ],
   "source": [
    "# # Assign X (data) and y (target)\n",
    "X = df_avg[[\n",
    "        'year',\n",
    "        'Latitude',\n",
    "        'Longitude']].copy()\n",
    "\n",
    "y = df_avg[\"AverageTemperatureF\"].values.reshape(-1, 1)\n",
    "print(X.shape, y.shape)"
   ]
  },
  {
   "cell_type": "code",
   "execution_count": 117,
   "metadata": {
    "collapsed": true
   },
   "outputs": [],
   "source": [
    "# changing lat&lon from objects to float datatypes\n",
    "X.loc[:, [\"Latitude\", \"Longitude\"]] = X.loc[:, [\"Latitude\", \"Longitude\"]].astype(float)"
   ]
  },
  {
   "cell_type": "code",
   "execution_count": 118,
   "metadata": {},
   "outputs": [
    {
     "data": {
      "text/html": [
       "<div>\n",
       "<style scoped>\n",
       "    .dataframe tbody tr th:only-of-type {\n",
       "        vertical-align: middle;\n",
       "    }\n",
       "\n",
       "    .dataframe tbody tr th {\n",
       "        vertical-align: top;\n",
       "    }\n",
       "\n",
       "    .dataframe thead th {\n",
       "        text-align: right;\n",
       "    }\n",
       "</style>\n",
       "<table border=\"1\" class=\"dataframe\">\n",
       "  <thead>\n",
       "    <tr style=\"text-align: right;\">\n",
       "      <th></th>\n",
       "      <th>year</th>\n",
       "      <th>Latitude</th>\n",
       "      <th>Longitude</th>\n",
       "    </tr>\n",
       "  </thead>\n",
       "  <tbody>\n",
       "    <tr>\n",
       "      <th>11660</th>\n",
       "      <td>1838</td>\n",
       "      <td>55.45</td>\n",
       "      <td>51.02</td>\n",
       "    </tr>\n",
       "    <tr>\n",
       "      <th>56625</th>\n",
       "      <td>2059</td>\n",
       "      <td>-18.48</td>\n",
       "      <td>70.99</td>\n",
       "    </tr>\n",
       "    <tr>\n",
       "      <th>47297</th>\n",
       "      <td>2028</td>\n",
       "      <td>-23.31</td>\n",
       "      <td>48.06</td>\n",
       "    </tr>\n",
       "    <tr>\n",
       "      <th>22839</th>\n",
       "      <td>1880</td>\n",
       "      <td>2.41</td>\n",
       "      <td>103.66</td>\n",
       "    </tr>\n",
       "    <tr>\n",
       "      <th>58533</th>\n",
       "      <td>2065</td>\n",
       "      <td>26.52</td>\n",
       "      <td>77.01</td>\n",
       "    </tr>\n",
       "  </tbody>\n",
       "</table>\n",
       "</div>"
      ],
      "text/plain": [
       "       year  Latitude  Longitude\n",
       "11660  1838     55.45      51.02\n",
       "56625  2059    -18.48      70.99\n",
       "47297  2028    -23.31      48.06\n",
       "22839  1880      2.41     103.66\n",
       "58533  2065     26.52      77.01"
      ]
     },
     "execution_count": 118,
     "metadata": {},
     "output_type": "execute_result"
    }
   ],
   "source": [
    "# Split the data into training and testing\n",
    "from sklearn.model_selection import train_test_split\n",
    "\n",
    "# X = pd.get_dummies(X)\n",
    "\n",
    "X_train, X_test, y_train, y_test = train_test_split(X, y, random_state=42)\n",
    "\n",
    "X_train.head()"
   ]
  },
  {
   "cell_type": "code",
   "execution_count": 119,
   "metadata": {},
   "outputs": [],
   "source": [
    "from sklearn.preprocessing import StandardScaler\n",
    "\n",
    "# # Create a StandardScaler model and fit it to the training data\n",
    "X_scaler = StandardScaler().fit(X_train)\n",
    "y_scaler = StandardScaler().fit(y_train)\n"
   ]
  },
  {
   "cell_type": "code",
   "execution_count": 120,
   "metadata": {
    "collapsed": true
   },
   "outputs": [],
   "source": [
    "# # Transform the training and testing data using the X_scaler and y_scaler models\n",
    "X_train_scaled = X_scaler.transform(X_train)\n",
    "X_test_scaled = X_scaler.transform(X_test)\n",
    "y_train_scaled = y_scaler.transform(y_train)\n",
    "y_test_scaled = y_scaler.transform(y_test)"
   ]
  },
  {
   "cell_type": "code",
   "execution_count": 121,
   "metadata": {},
   "outputs": [
    {
     "data": {
      "text/plain": [
       "LinearRegression(copy_X=True, fit_intercept=True, n_jobs=1, normalize=False)"
      ]
     },
     "execution_count": 121,
     "metadata": {},
     "output_type": "execute_result"
    }
   ],
   "source": [
    "# Create a LinearRegression model and fit it to the scaled training data\n",
    "from sklearn.linear_model import LinearRegression\n",
    "model = LinearRegression()\n",
    "model.fit(X_train_scaled, y_train_scaled)"
   ]
  },
  {
   "cell_type": "code",
   "execution_count": 122,
   "metadata": {},
   "outputs": [
    {
     "data": {
      "text/plain": [
       "-3.5967872385640356"
      ]
     },
     "execution_count": 122,
     "metadata": {},
     "output_type": "execute_result"
    }
   ],
   "source": [
    "y_test_scaled.min()"
   ]
  },
  {
   "cell_type": "code",
   "execution_count": 123,
   "metadata": {},
   "outputs": [
    {
     "data": {
      "image/png": "[encoded data removed]",
      "text/plain": [
       "<matplotlib.figure.Figure at 0x10f36a0f0>"
      ]
     },
     "metadata": {},
     "output_type": "display_data"
    }
   ],
   "source": [
    "# Make predictions using the X_test_scaled data\n",
    "# Plot y_test_scaled vs y_test_scaled\n",
    "# Scatter plot y_test_scaled vs predictions\n",
    "\n",
    "predictions = model.predict(X_test_scaled)\n",
    "# scale predicted y values back to original domain\n",
    "predictions = y_scaler.inverse_transform(predictions)\n",
    "plt.scatter(model.predict(X_train_scaled), model.predict(X_train_scaled) - y_train_scaled, c=\"blue\", label=\"Training Data\")\n",
    "plt.scatter(model.predict(X_test_scaled), model.predict(X_test_scaled) - y_test_scaled, c=\"orange\", label=\"Testing Data\")\n",
    "plt.legend()\n",
    "plt.hlines(y=0, xmin=y_test_scaled.min(), xmax=y_test_scaled.max())\n",
    "plt.title(\"Residual Plot\")\n",
    "plt.savefig('model.jpg')\n",
    "plt.show()"
   ]
  },
  {
   "cell_type": "code",
   "execution_count": 124,
   "metadata": {},
   "outputs": [
    {
     "name": "stdout",
     "output_type": "stream",
     "text": [
      "MSE: 0.931389884850561, R2: 0.06002910149769647\n"
     ]
    },
    {
     "data": {
      "text/plain": [
       "(14829, 3)"
      ]
     },
     "execution_count": 124,
     "metadata": {},
     "output_type": "execute_result"
    }
   ],
   "source": [
    "from sklearn.metrics import mean_squared_error\n",
    "\n",
    "predictions = model.predict(X_test_scaled)\n",
    "MSE = mean_squared_error(y_test_scaled, predictions)\n",
    "r2 = model.score(X_test_scaled, y_test_scaled)\n",
    "\n",
    "print(f\"MSE: {MSE}, R2: {r2}\")\n",
    "X_test_scaled.shape"
   ]
  }
 ],
 "metadata": {
  "kernelspec": {
   "display_name": "Python [default]",
   "language": "python",
   "name": "python3"
  },
  "language_info": {
   "codemirror_mode": {
    "name": "ipython",
    "version": 3
   },
   "file_extension": ".py",
   "mimetype": "text/x-python",
   "name": "python",
   "nbconvert_exporter": "python",
   "pygments_lexer": "ipython3",
   "version": "3.6.3"
  }
 },
 "nbformat": 4,
 "nbformat_minor": 2
}
